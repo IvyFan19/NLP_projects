{
 "cells": [
  {
   "cell_type": "markdown",
   "id": "designed-netscape",
   "metadata": {},
   "source": [
    "## TEXT CLASSIFICATION USING NAIVE BAYES\n",
    "Date: March 5, 2021\n",
    "\n",
    "Student name: Xinwei Fan(920863200)"
   ]
  },
  {
   "cell_type": "markdown",
   "id": "exclusive-restoration",
   "metadata": {},
   "source": [
    "\n",
    "### 1. Create a toy labeled dataset.  \n",
    "Use any data structure in python to store this data. This dataset should have 10-15 sentences with a class label associated with each datapoint. There should be at least 2 classes (e.g. spam vs ham OR positive vs negative)"
   ]
  },
  {
   "cell_type": "code",
   "execution_count": null,
   "id": "reasonable-perspective",
   "metadata": {},
   "outputs": [],
   "source": []
  }
 ],
 "metadata": {
  "kernelspec": {
   "display_name": "Python 3",
   "language": "python",
   "name": "python3"
  },
  "language_info": {
   "codemirror_mode": {
    "name": "ipython",
    "version": 3
   },
   "file_extension": ".py",
   "mimetype": "text/x-python",
   "name": "python",
   "nbconvert_exporter": "python",
   "pygments_lexer": "ipython3",
   "version": "3.8.5"
  }
 },
 "nbformat": 4,
 "nbformat_minor": 5
}
