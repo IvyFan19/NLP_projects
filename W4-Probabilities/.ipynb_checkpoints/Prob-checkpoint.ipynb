{
 "cells": [
  {
   "cell_type": "markdown",
   "metadata": {},
   "source": [
    "# Topic\n",
    "Next word predictor using a bigram language model.\n",
    "\n",
    "Reference：\n"
   ]
  },
  {
   "cell_type": "markdown",
   "metadata": {},
   "source": [
    "Steps to follow:\n",
    "\n",
    "1) Build the bigram LM:\n",
    "\n",
    "    1.A) Use nltk to compile all the unique bigrams from the corpus you used for the previous assignment.  \n",
    "\n",
    "    1.B) Compute probability of each bigram using MLE ( count(w1 w2) / count(w1) ) \n",
    "\n",
    "2) Next word prediction using the above bigram LM:\n",
    "\n",
    "    2.A) Get an input word from user, inpW.\n",
    "\n",
    "    2.B) Use the above bigram LM to find all the bigrams where the input word, inpW, is w1.  Display all possible next words from these bigrams and their corresponding probabilities. "
   ]
  },
  {
   "cell_type": "code",
   "execution_count": null,
   "metadata": {},
   "outputs": [],
   "source": []
  }
 ],
 "metadata": {
  "kernelspec": {
   "display_name": "Python 3",
   "language": "python",
   "name": "python3"
  },
  "language_info": {
   "codemirror_mode": {
    "name": "ipython",
    "version": 3
   },
   "file_extension": ".py",
   "mimetype": "text/x-python",
   "name": "python",
   "nbconvert_exporter": "python",
   "pygments_lexer": "ipython3",
   "version": "3.8.5"
  }
 },
 "nbformat": 4,
 "nbformat_minor": 5
}
