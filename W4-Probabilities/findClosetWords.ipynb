{
 "cells": [
  {
   "cell_type": "markdown",
   "metadata": {},
   "source": [
    "# Topic\n",
    "Use Levenshtein's minimum edit distance to find the closest words to the user input\n",
    "\n",
    "Reference：\n",
    "1. https://www.nltk.org/book/ch01.html"
   ]
  },
  {
   "cell_type": "markdown",
   "metadata": {},
   "source": [
    "## Build Vocabulary Set\n",
    "Build a vocabulary (set of all unique words) using any English corpus from nltk.book. The input string will be searched in this vocabulary."
   ]
  },
  {
   "cell_type": "code",
   "execution_count": 1,
   "metadata": {
    "scrolled": true
   },
   "outputs": [
    {
     "name": "stdout",
     "output_type": "stream",
     "text": [
      "*** Introductory Examples for the NLTK Book ***\n",
      "Loading text1, ..., text9 and sent1, ..., sent9\n",
      "Type the name of the text or sentence to view it.\n",
      "Type: 'texts()' or 'sents()' to list the materials.\n",
      "text1: Moby Dick by Herman Melville 1851\n",
      "text2: Sense and Sensibility by Jane Austen 1811\n",
      "text3: The Book of Genesis\n",
      "text4: Inaugural Address Corpus\n",
      "text5: Chat Corpus\n",
      "text6: Monty Python and the Holy Grail\n",
      "text7: Wall Street Journal\n",
      "text8: Personals Corpus\n",
      "text9: The Man Who Was Thursday by G . K . Chesterton 1908\n"
     ]
    }
   ],
   "source": [
    "import nltk\n",
    "# load all book in local machine\n",
    "from nltk.book import *"
   ]
  },
  {
   "cell_type": "code",
   "execution_count": 4,
   "metadata": {},
   "outputs": [
    {
     "name": "stdout",
     "output_type": "stream",
     "text": [
      "The number of sets in the book: 2789\n"
     ]
    }
   ],
   "source": [
    "# use text3 book as the vocabulary set\n",
    "vol_dict = sorted(set(text3))\n",
    "print(\"The number of sets in the book:\", len(vol_dict))"
   ]
  },
  {
   "cell_type": "markdown",
   "metadata": {},
   "source": [
    "## Find Frequency\n",
    "Find the no. of occurrences (frequency) of each unique word in the chosen corpus.  Also, find the total number of words in the chosen corpus (N)."
   ]
  },
  {
   "cell_type": "code",
   "execution_count": 5,
   "metadata": {},
   "outputs": [
    {
     "name": "stdout",
     "output_type": "stream",
     "text": [
      "The total number of words in the chosen corpus is: 44764\n"
     ]
    }
   ],
   "source": [
    "num_words = len(text3)\n",
    "print(\"The total number of words in the chosen corpus is:\", num_words)"
   ]
  },
  {
   "cell_type": "code",
   "execution_count": 6,
   "metadata": {},
   "outputs": [
    {
     "name": "stdout",
     "output_type": "stream",
     "text": [
      "[(',', 3681), ('and', 2428), ('the', 2411), ('of', 1358), ('.', 1315), ('And', 1250), ('his', 651), ('he', 648), ('to', 611), (';', 605), ('unto', 590), ('in', 588), ('that', 509), ('I', 484), ('said', 476), ('him', 387), ('a', 342), ('my', 325), ('was', 317), ('for', 297), ('it', 290), ('with', 289), ('me', 282), ('thou', 272), (\"'\", 268), ('is', 267), ('thy', 267), ('s', 263), ('thee', 257), ('be', 254), ('shall', 253), ('they', 249), ('all', 245), (':', 238), ('God', 231), ('them', 230), ('not', 224), ('which', 198), ('father', 198), ('will', 195), ('land', 184), ('Jacob', 179), ('came', 177), ('her', 173), ('LORD', 166), ('were', 163), ('she', 161), ('from', 157), ('Joseph', 157), ('their', 153)]\n"
     ]
    }
   ],
   "source": [
    "fq_dic = FreqDist(text3)\n",
    "print(fq_dic.most_common(50))"
   ]
  },
  {
   "cell_type": "markdown",
   "metadata": {},
   "source": [
    "## Find Relative Frequency\n",
    "Find the relative frequency of each word x where relative frequency of x = frequency of x / N. This relative frequency can be interpreted as the probability of each word in the corpus."
   ]
  },
  {
   "cell_type": "code",
   "execution_count": 7,
   "metadata": {},
   "outputs": [
    {
     "name": "stdout",
     "output_type": "stream",
     "text": [
      "[(',', 0.08223125726029845), ('and', 0.05424001429720311), ('the', 0.05386024483960325), ('of', 0.03033687784827093), ('.', 0.02937628451434188), ('And', 0.0279242248235189), ('his', 0.014542936288088643), ('he', 0.014475918148512198), ('to', 0.013649361093736039), (';', 0.013515324814583148), ('unto', 0.01318023411670092), ('in', 0.01313555535698329), ('that', 0.011370744348136896), ('I', 0.010812259851666518), ('said', 0.010633544812795997), ('him', 0.00864534000536145), ('a', 0.007640067911714771), ('my', 0.007260298454114914), ('was', 0.0070815834152443925), ('for', 0.0066347958180680905)]\n"
     ]
    }
   ],
   "source": [
    "import collections\n",
    "re_fq_dic = {}\n",
    "for k, v in fq_dic.items():\n",
    "    v = v / num_words\n",
    "    re_fq_dic[k] = v\n",
    "d = collections.Counter(re_fq_dic)\n",
    "print(d.most_common(20))"
   ]
  },
  {
   "cell_type": "markdown",
   "metadata": {},
   "source": [
    "## Find Closest String\n",
    "4.a) If the input string XYZ exists in your vocabulary, return \"XYZ is a complete and correct word in English.\"\n",
    "\n",
    "4.b) If the input string doesn't exist in your vocabulary, perform the below steps:\n",
    "\n",
    "4.b.i) Calculate the similarity between each word in the vocabulary and the input string using Levenshtein distance. (Use any open-source python library for calculating Levenshtein distance.)\n",
    "\n",
    "4.b.ii) Output the closest top 5 words as per Levenshtein distance to the input string. Also, output the probability for each of the 5 words."
   ]
  },
  {
   "cell_type": "code",
   "execution_count": 8,
   "metadata": {},
   "outputs": [],
   "source": [
    "# A Dynamic Programming based Python program for edit\n",
    "# distance problem\n",
    "\n",
    "def minDistance(word1, word2):\n",
    "    # levinshtien distance\n",
    "    \n",
    "    m = len(word1)+1\n",
    "    n = len(word2)+1\n",
    "\n",
    "    dp = [[0 for _ in range(n)] for _ in range(m)]\n",
    "    \n",
    "    for i in range(m):\n",
    "        dp[i][0] = i\n",
    "\n",
    "    for j in range(n):\n",
    "        dp[0][j] = j\n",
    "        \n",
    "    # Main Loop\n",
    "    for i in range(1,m):\n",
    "        for j in range(1,n):\n",
    "            dp[i][j] = min((0 if word1[i-1] == word2[j-1] else 2) + dp[i-1][j-1],\n",
    "                            dp[i-1][j] + 1, \n",
    "                            dp[i][j-1] + 1)\n",
    "\n",
    "    return dp[-1][-1]"
   ]
  },
  {
   "cell_type": "code",
   "execution_count": 9,
   "metadata": {},
   "outputs": [
    {
     "name": "stdout",
     "output_type": "stream",
     "text": [
      "8\n"
     ]
    }
   ],
   "source": [
    "# test the function of minDistance \n",
    "str1 = \"intention\"\n",
    "str2 = \"execution\" \n",
    "ans = minDistance(str1, str2)\n",
    "print(ans)"
   ]
  },
  {
   "cell_type": "code",
   "execution_count": 10,
   "metadata": {},
   "outputs": [],
   "source": [
    "import collections\n",
    "def findClosetStr(str):\n",
    "    distance_dic = {}\n",
    "    if str in vol_dict:\n",
    "        print(\"[\" + str + \"]\" + \" is a complete and correct word in English.\")\n",
    "        return\n",
    "    \n",
    "    for item in vol_dict:\n",
    "        val = minDistance(item, str)\n",
    "        distance_dic[item] = val\n",
    "        \n",
    "    sort_distance_dic = collections.Counter(distance_dic)\n",
    "    closet_5_words = sort_distance_dic.most_common()[-5:][::-1]\n",
    "    print(\"the closest top 5 words are: \", closet_5_words)\n",
    "    \n",
    "    print(\"The probability for each of the 5 words:\")\n",
    "    for i in closet_5_words:\n",
    "        print(i[0], re_fq_dic[i[0]])\n",
    "               \n",
    "    return"
   ]
  },
  {
   "cell_type": "code",
   "execution_count": 11,
   "metadata": {},
   "outputs": [
    {
     "name": "stdout",
     "output_type": "stream",
     "text": [
      "======TEST 1======\n",
      "[this] is a complete and correct word in English.\n",
      "======TEST 2======\n",
      "the closest top 5 words are:  [('this', 1), ('thi', 2), ('his', 2), ('thus', 3), ('thistles', 3)]\n",
      "The probability for each of the 5 words:\n",
      "this 0.0027477437226342597\n",
      "thi 6.701813957644536e-05\n",
      "his 0.014542936288088643\n",
      "thus 0.00015637565901170585\n",
      "thistles 2.233937985881512e-05\n",
      "======TEST 3======\n",
      "the closest top 5 words are:  [('appe', 1), ('vale', 3), ('people', 3), ('male', 3), ('dale', 3)]\n",
      "The probability for each of the 5 words:\n",
      "appe 2.233937985881512e-05\n",
      "vale 8.935751943526048e-05\n",
      "people 0.0007818782950585292\n",
      "male 0.00024573317844696634\n",
      "dale 2.233937985881512e-05\n"
     ]
    }
   ],
   "source": [
    "str1 = \"this\"\n",
    "print(\"======TEST 1======\")\n",
    "findClosetStr(str1)\n",
    "\n",
    "print(\"======TEST 2======\")\n",
    "str2 = \"thiss\"\n",
    "findClosetStr(str2)\n",
    "\n",
    "print(\"======TEST 3======\")\n",
    "str3 = \"apple\"\n",
    "findClosetStr(str3)"
   ]
  },
  {
   "cell_type": "code",
   "execution_count": null,
   "metadata": {},
   "outputs": [],
   "source": []
  }
 ],
 "metadata": {
  "kernelspec": {
   "display_name": "Python 3",
   "language": "python",
   "name": "python3"
  },
  "language_info": {
   "codemirror_mode": {
    "name": "ipython",
    "version": 3
   },
   "file_extension": ".py",
   "mimetype": "text/x-python",
   "name": "python",
   "nbconvert_exporter": "python",
   "pygments_lexer": "ipython3",
   "version": "3.8.5"
  }
 },
 "nbformat": 4,
 "nbformat_minor": 5
}
