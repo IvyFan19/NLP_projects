{
 "cells": [
  {
   "cell_type": "markdown",
   "metadata": {},
   "source": [
    "# Topic\n",
    "Next word predictor using a bigram language model.\n",
    "\n",
    "Reference：\n",
    "1. https://stackoverflow.com/questions/36797539/how-can-i-sort-mle-probability-according-to-the-value\n"
   ]
  },
  {
   "cell_type": "markdown",
   "metadata": {},
   "source": [
    "Steps to follow:\n",
    "\n",
    "1) Build the bigram LM:\n",
    "\n",
    "    1.A) Use nltk to compile all the unique bigrams from the corpus you used for the previous assignment.  \n",
    "\n",
    "    1.B) Compute probability of each bigram using MLE ( count(w1 w2) / count(w1) ) \n",
    "\n",
    "2) Next word prediction using the above bigram LM:\n",
    "\n",
    "    2.A) Get an input word from user, inpW.\n",
    "\n",
    "    2.B) Use the above bigram LM to find all the bigrams where the input word, inpW, is w1.  Display all possible next words from these bigrams and their corresponding probabilities. "
   ]
  },
  {
   "cell_type": "markdown",
   "metadata": {},
   "source": [
    "## Get unique bigrams\n",
    "A. Use nltk to compile all the unique bigrams"
   ]
  },
  {
   "cell_type": "code",
   "execution_count": 1,
   "metadata": {},
   "outputs": [],
   "source": [
    "import nltk\n",
    "from nltk.tokenize import word_tokenize\n",
    "\n",
    "def getBigrams(text):\n",
    "    if type(text) == str:                 # input: string\n",
    "        tokens = nltk.word_tokenize(text)\n",
    "    elif type(text) == nltk.text.Text:    # input: text book\n",
    "        tokens = set(text)\n",
    "    else:\n",
    "        print(\"Error input type!\")\n",
    "    bigrm = tuple(nltk.bigrams(tokens))\n",
    "    token_freq = nltk.FreqDist(tokens)\n",
    "    bi_freq = nltk.FreqDist(bigrm) \n",
    "    return bigrm, token_freq, bi_freq"
   ]
  },
  {
   "cell_type": "code",
   "execution_count": 2,
   "metadata": {},
   "outputs": [
    {
     "name": "stdout",
     "output_type": "stream",
     "text": [
      "The bigrams are:  (('I', 'will'), ('will', 'go'), ('go', 'to'), ('to', 'California'), ('California', 'to'), ('to', 'meet'), ('meet', 'my'), ('my', 'friend'))\n",
      "The frequence of token:  [('to', 2), ('I', 1), ('will', 1), ('go', 1), ('California', 1), ('meet', 1), ('my', 1), ('friend', 1)]\n",
      "The frequence of bigram:  [(('I', 'will'), 1), (('will', 'go'), 1), (('go', 'to'), 1), (('to', 'California'), 1), (('California', 'to'), 1), (('to', 'meet'), 1), (('meet', 'my'), 1), (('my', 'friend'), 1)]\n"
     ]
    }
   ],
   "source": [
    "# test function of getBigram \n",
    "text = \"I will go to California to meet my friend\"\n",
    "bigrm, token_freq, bi_freq = getBigrams(text)\n",
    "print(\"The bigrams are: \", bigrm)\n",
    "print(\"The frequence of token: \", token_freq.most_common(1000)) \n",
    "print(\"The frequence of bigram: \", bi_freq.most_common(1000))"
   ]
  },
  {
   "cell_type": "code",
   "execution_count": 3,
   "metadata": {},
   "outputs": [],
   "source": [
    "def getProbability(bigrm, token_freq, bi_freq):\n",
    "    prob_dic = dict()\n",
    "    for item in bigrm:\n",
    "        token = item[0]\n",
    "        num = token_freq[token]\n",
    "        # MLE ( count(w1 w2) / count(w1) ) \n",
    "        prob = bi_freq[item] / num\n",
    "        prob_dic[item] = prob\n",
    "    return prob_dic"
   ]
  },
  {
   "cell_type": "code",
   "execution_count": 4,
   "metadata": {},
   "outputs": [
    {
     "name": "stdout",
     "output_type": "stream",
     "text": [
      "{('I', 'will'): 1.0, ('will', 'go'): 1.0, ('go', 'to'): 1.0, ('to', 'California'): 0.5, ('California', 'to'): 1.0, ('to', 'meet'): 0.5, ('meet', 'my'): 1.0, ('my', 'friend'): 1.0}\n"
     ]
    }
   ],
   "source": [
    "# test function of getProbability\n",
    "prob_dic = getProbability(bigrm, token_freq, bi_freq)\n",
    "print(prob_dic)"
   ]
  },
  {
   "cell_type": "markdown",
   "metadata": {},
   "source": [
    "## Predict next word"
   ]
  },
  {
   "cell_type": "code",
   "execution_count": 5,
   "metadata": {},
   "outputs": [],
   "source": [
    "def inputWord(input_str, prob_dic, token_freq, bigrm):\n",
    "    res = \"Possible next words: \"\n",
    "    if input_str not in token_freq:\n",
    "        print(\"Sorry, we didn't find\")\n",
    "    for key, val in prob_dic.items():\n",
    "        if key[0] == input_str:\n",
    "            tmp = str(key[1]) + \": \" + str(val)\n",
    "            res += tmp + \", \"\n",
    "    return res[:len(res)-2]\n",
    "        "
   ]
  },
  {
   "cell_type": "code",
   "execution_count": 6,
   "metadata": {},
   "outputs": [
    {
     "name": "stdout",
     "output_type": "stream",
     "text": [
      "Possible next words: California: 0.5, meet: 0.5\n"
     ]
    }
   ],
   "source": [
    "# test inputWord function\n",
    "test_string = \"to\"\n",
    "print(inputWord(test_string, prob_dic, token_freq, bigrm))"
   ]
  },
  {
   "cell_type": "markdown",
   "metadata": {},
   "source": [
    "## Test in a large corpus from text book"
   ]
  },
  {
   "cell_type": "code",
   "execution_count": 7,
   "metadata": {},
   "outputs": [
    {
     "name": "stdout",
     "output_type": "stream",
     "text": [
      "*** Introductory Examples for the NLTK Book ***\n",
      "Loading text1, ..., text9 and sent1, ..., sent9\n",
      "Type the name of the text or sentence to view it.\n",
      "Type: 'texts()' or 'sents()' to list the materials.\n",
      "text1: Moby Dick by Herman Melville 1851\n",
      "text2: Sense and Sensibility by Jane Austen 1811\n",
      "text3: The Book of Genesis\n",
      "text4: Inaugural Address Corpus\n",
      "text5: Chat Corpus\n",
      "text6: Monty Python and the Holy Grail\n",
      "text7: Wall Street Journal\n",
      "text8: Personals Corpus\n",
      "text9: The Man Who Was Thursday by G . K . Chesterton 1908\n"
     ]
    }
   ],
   "source": [
    "from nltk.book import *\n",
    "bigrm, token_freq, bi_freq = getBigrams(text3)\n",
    "prob_dic = getProbability(bigrm, token_freq, bi_freq)"
   ]
  },
  {
   "cell_type": "code",
   "execution_count": 8,
   "metadata": {},
   "outputs": [
    {
     "name": "stdout",
     "output_type": "stream",
     "text": [
      "Possible next words: uppermost: 1.0\n",
      "----------\n",
      "Possible next words: fill: 1.0\n"
     ]
    }
   ],
   "source": [
    "test1 = \"He\"\n",
    "ans1 = inputWord(test1, prob_dic, token_freq, bigrm)\n",
    "print(ans1)\n",
    "\n",
    "print(\"----------\")\n",
    "# test2\n",
    "test2 = \"is\"\n",
    "ans2 = inputWord(test2, prob_dic, token_freq, bigrm)\n",
    "print(ans2)"
   ]
  }
 ],
 "metadata": {
  "kernelspec": {
   "display_name": "Python 3",
   "language": "python",
   "name": "python3"
  },
  "language_info": {
   "codemirror_mode": {
    "name": "ipython",
    "version": 3
   },
   "file_extension": ".py",
   "mimetype": "text/x-python",
   "name": "python",
   "nbconvert_exporter": "python",
   "pygments_lexer": "ipython3",
   "version": "3.8.5"
  }
 },
 "nbformat": 4,
 "nbformat_minor": 5
}
