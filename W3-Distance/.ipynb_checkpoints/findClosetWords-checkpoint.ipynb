{
 "cells": [
  {
   "cell_type": "markdown",
   "id": "hourly-expert",
   "metadata": {},
   "source": [
    "## Topic\n",
    "Use Levenshtein's minimum edit distance to find the closest words to the user input\n",
    " \n",
    "## Reference\n",
    "1. https://www.nltk.org/book/ch01.html"
   ]
  },
  {
   "cell_type": "markdown",
   "id": "junior-currency",
   "metadata": {},
   "source": [
    "## Build a vocabulary set\n",
    "Build a vocabulary (set of all unique words) using any English corpus from nltk.book. The input string will be searched in this vocabulary."
   ]
  },
  {
   "cell_type": "code",
   "execution_count": 1,
   "id": "homeless-identity",
   "metadata": {
    "scrolled": true
   },
   "outputs": [
    {
     "name": "stdout",
     "output_type": "stream",
     "text": [
      "*** Introductory Examples for the NLTK Book ***\n",
      "Loading text1, ..., text9 and sent1, ..., sent9\n",
      "Type the name of the text or sentence to view it.\n",
      "Type: 'texts()' or 'sents()' to list the materials.\n",
      "text1: Moby Dick by Herman Melville 1851\n",
      "text2: Sense and Sensibility by Jane Austen 1811\n",
      "text3: The Book of Genesis\n",
      "text4: Inaugural Address Corpus\n",
      "text5: Chat Corpus\n",
      "text6: Monty Python and the Holy Grail\n",
      "text7: Wall Street Journal\n",
      "text8: Personals Corpus\n",
      "text9: The Man Who Was Thursday by G . K . Chesterton 1908\n"
     ]
    }
   ],
   "source": [
    "import nltk\n",
    "# load all book in local machine\n",
    "from nltk.book import *"
   ]
  },
  {
   "cell_type": "code",
   "execution_count": 2,
   "id": "vulnerable-internet",
   "metadata": {},
   "outputs": [
    {
     "name": "stdout",
     "output_type": "stream",
     "text": [
      "The number of sets in the book: 2789\n"
     ]
    }
   ],
   "source": [
    "# use text3 book as the vocabulary set\n",
    "vol_dict = sorted(set(text3))\n",
    "words = nltk.tokenize.word_tokenize(text1)\n",
    "print(\"The number of sets in the book:\", len(vol_dict))"
   ]
  },
  {
   "cell_type": "markdown",
   "id": "deluxe-administration",
   "metadata": {},
   "source": [
    "## Find Frequency\n",
    "Find the no. of occurrences (frequency) of each unique word in the chosen corpus.  Also, find the total number of words in the chosen corpus (N)."
   ]
  },
  {
   "cell_type": "code",
   "execution_count": 37,
   "id": "arranged-clear",
   "metadata": {},
   "outputs": [
    {
     "name": "stdout",
     "output_type": "stream",
     "text": [
      "The total number of words in the chosen corpus is: 44764\n"
     ]
    }
   ],
   "source": [
    "num_words = len(text3)\n",
    "print(\"The total number of words in the chosen corpus is:\", num_words)"
   ]
  },
  {
   "cell_type": "code",
   "execution_count": 38,
   "id": "associate-validity",
   "metadata": {},
   "outputs": [
    {
     "name": "stdout",
     "output_type": "stream",
     "text": [
      "[(',', 3681), ('and', 2428), ('the', 2411), ('of', 1358), ('.', 1315), ('And', 1250), ('his', 651), ('he', 648), ('to', 611), (';', 605), ('unto', 590), ('in', 588), ('that', 509), ('I', 484), ('said', 476), ('him', 387), ('a', 342), ('my', 325), ('was', 317), ('for', 297), ('it', 290), ('with', 289), ('me', 282), ('thou', 272), (\"'\", 268), ('is', 267), ('thy', 267), ('s', 263), ('thee', 257), ('be', 254), ('shall', 253), ('they', 249), ('all', 245), (':', 238), ('God', 231), ('them', 230), ('not', 224), ('which', 198), ('father', 198), ('will', 195), ('land', 184), ('Jacob', 179), ('came', 177), ('her', 173), ('LORD', 166), ('were', 163), ('she', 161), ('from', 157), ('Joseph', 157), ('their', 153)]\n"
     ]
    }
   ],
   "source": [
    "fq_dic = FreqDist(text3)\n",
    "print(fq_dic.most_common(50))"
   ]
  },
  {
   "cell_type": "markdown",
   "id": "mechanical-honduras",
   "metadata": {},
   "source": [
    "## Find Relative Frequency\n",
    "Find the relative frequency of each word x where relative frequency of x = frequency of x / N. This relative frequency can be interpreted as the probability of each word in the corpus."
   ]
  },
  {
   "cell_type": "code",
   "execution_count": 48,
   "id": "legislative-poverty",
   "metadata": {},
   "outputs": [
    {
     "ename": "ModuleNotFoundError",
     "evalue": "No module named 'collections.Counter'",
     "output_type": "error",
     "traceback": [
      "\u001b[0;31m---------------------------------------------------------------------------\u001b[0m",
      "\u001b[0;31mModuleNotFoundError\u001b[0m                       Traceback (most recent call last)",
      "\u001b[0;32m<ipython-input-48-3e0071151dfb>\u001b[0m in \u001b[0;36m<module>\u001b[0;34m\u001b[0m\n\u001b[0;32m----> 1\u001b[0;31m \u001b[0;32mimport\u001b[0m \u001b[0mcollections\u001b[0m\u001b[0;34m.\u001b[0m\u001b[0mCounter\u001b[0m\u001b[0;34m\u001b[0m\u001b[0;34m\u001b[0m\u001b[0m\n\u001b[0m\u001b[1;32m      2\u001b[0m \u001b[0mre_fq_dic\u001b[0m \u001b[0;34m=\u001b[0m \u001b[0;34m{\u001b[0m\u001b[0;34m}\u001b[0m\u001b[0;34m\u001b[0m\u001b[0;34m\u001b[0m\u001b[0m\n\u001b[1;32m      3\u001b[0m \u001b[0;32mfor\u001b[0m \u001b[0mk\u001b[0m\u001b[0;34m,\u001b[0m \u001b[0mv\u001b[0m \u001b[0;32min\u001b[0m \u001b[0mfq_dic\u001b[0m\u001b[0;34m.\u001b[0m\u001b[0mitems\u001b[0m\u001b[0;34m(\u001b[0m\u001b[0;34m)\u001b[0m\u001b[0;34m:\u001b[0m\u001b[0;34m\u001b[0m\u001b[0;34m\u001b[0m\u001b[0m\n\u001b[1;32m      4\u001b[0m     \u001b[0mv\u001b[0m \u001b[0;34m=\u001b[0m \u001b[0mv\u001b[0m \u001b[0;34m/\u001b[0m \u001b[0mnum_words\u001b[0m\u001b[0;34m\u001b[0m\u001b[0;34m\u001b[0m\u001b[0m\n\u001b[1;32m      5\u001b[0m     \u001b[0mre_fq_dic\u001b[0m\u001b[0;34m[\u001b[0m\u001b[0mk\u001b[0m\u001b[0;34m]\u001b[0m \u001b[0;34m=\u001b[0m \u001b[0mv\u001b[0m\u001b[0;34m\u001b[0m\u001b[0;34m\u001b[0m\u001b[0m\n",
      "\u001b[0;31mModuleNotFoundError\u001b[0m: No module named 'collections.Counter'"
     ]
    }
   ],
   "source": [
    "import collections\n",
    "re_fq_dic = {}\n",
    "for k, v in fq_dic.items():\n",
    "    v = v / num_words\n",
    "    re_fq_dic[k] = v\n",
    "d = Counter(re_fq_dic)\n",
    "print(d.most_common())"
   ]
  },
  {
   "cell_type": "code",
   "execution_count": 3,
   "id": "amended-rogers",
   "metadata": {},
   "outputs": [],
   "source": [
    "test_str = \"this\"\n",
    "# tokens = nltk.word_tokenize(test_str)\n",
    "# print(tokens)"
   ]
  },
  {
   "cell_type": "code",
   "execution_count": 4,
   "id": "raised-market",
   "metadata": {},
   "outputs": [
    {
     "name": "stdout",
     "output_type": "stream",
     "text": [
      "8\n"
     ]
    }
   ],
   "source": [
    "# A Dynamic Programming based Python program for edit\n",
    "# distance problem\n",
    "\n",
    "def minDistance(word1, word2):\n",
    "    # levinshtien distance\n",
    "    \n",
    "    m = len(word1)+1\n",
    "    n = len(word2)+1\n",
    "\n",
    "    dp = [[0 for _ in range(n)] for _ in range(m)]\n",
    "    \n",
    "    for i in range(m):\n",
    "        dp[i][0] = i\n",
    "\n",
    "    for j in range(n):\n",
    "        dp[0][j] = j\n",
    "        \n",
    "    # Main Loop\n",
    "    for i in range(1,m):\n",
    "        for j in range(1,n):\n",
    "            dp[i][j] = min((0 if word1[i-1] == word2[j-1] else 2) + dp[i-1][j-1],\n",
    "                            dp[i-1][j] + 1, \n",
    "                            dp[i][j-1] + 1)\n",
    "\n",
    "    return dp[-1][-1]\n",
    "\n",
    "# test\n",
    "str1 = \"intention\"\n",
    "str2 = \"execution\" \n",
    "ans = minDistance(str1, str2)\n",
    "print(ans)"
   ]
  },
  {
   "cell_type": "code",
   "execution_count": 5,
   "id": "outside-cabinet",
   "metadata": {},
   "outputs": [
    {
     "name": "stdout",
     "output_type": "stream",
     "text": [
      "[this] is a complete and correct word in English.\n"
     ]
    }
   ],
   "source": [
    "test_str = \"this\"\n",
    "if test_str in vol_dict:\n",
    "    print(\"[\" + test_str + \"]\" + \" is a complete and correct word in English.\")"
   ]
  },
  {
   "cell_type": "code",
   "execution_count": null,
   "id": "consecutive-marketing",
   "metadata": {},
   "outputs": [],
   "source": []
  }
 ],
 "metadata": {
  "kernelspec": {
   "display_name": "Python 3",
   "language": "python",
   "name": "python3"
  },
  "language_info": {
   "codemirror_mode": {
    "name": "ipython",
    "version": 3
   },
   "file_extension": ".py",
   "mimetype": "text/x-python",
   "name": "python",
   "nbconvert_exporter": "python",
   "pygments_lexer": "ipython3",
   "version": "3.8.5"
  }
 },
 "nbformat": 4,
 "nbformat_minor": 5
}
